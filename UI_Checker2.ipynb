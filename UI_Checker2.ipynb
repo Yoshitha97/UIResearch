{
 "cells": [
  {
   "cell_type": "markdown",
   "id": "0f1cdd07-81a2-45aa-9816-c54bf1cad05c",
   "metadata": {
    "tags": []
   },
   "source": [
    "#### Dependencies"
   ]
  },
  {
   "cell_type": "code",
   "execution_count": null,
   "id": "8521aeb9-d58f-4a4e-a511-6907fc599827",
   "metadata": {},
   "outputs": [],
   "source": [
    "!pip install tensorflow tensorflow-cpu opencv-python matplotlib"
   ]
  },
  {
   "cell_type": "code",
   "execution_count": null,
   "id": "0fe7e961-6dd2-49c5-978b-8d1bdb2017ca",
   "metadata": {},
   "outputs": [],
   "source": [
    "!pip list"
   ]
  },
  {
   "cell_type": "markdown",
   "id": "481a06fd-12dc-4229-a59f-0d3122d407b9",
   "metadata": {
    "tags": []
   },
   "source": [
    "#### Importing Tensorflow and lessening GPU consumption"
   ]
  },
  {
   "cell_type": "code",
   "execution_count": null,
   "id": "444309b5-7781-4c6a-97bb-51b3471657e1",
   "metadata": {},
   "outputs": [],
   "source": [
    "import tensorflow as tf\n",
    "import os"
   ]
  },
  {
   "cell_type": "code",
   "execution_count": null,
   "id": "5805544f-42a6-4cd3-bb81-f6c1461dbe4e",
   "metadata": {
    "tags": []
   },
   "outputs": [],
   "source": [
    "gpus = tf.config.experimental.list_physical_devices('GPU')\n",
    "for gpu in gpus: \n",
    "    tf.config.experimental.set_memory_growth(gpu, True)"
   ]
  },
  {
   "cell_type": "code",
   "execution_count": null,
   "id": "5dc69360-d9d4-4209-ade5-6f37504e14b2",
   "metadata": {},
   "outputs": [],
   "source": [
    "tf.config.list_physical_devices('GPU')"
   ]
  },
  {
   "cell_type": "markdown",
   "id": "bb453d24-f623-40d6-88dc-1c4521ad6361",
   "metadata": {
    "tags": []
   },
   "source": [
    "#### Importing Opencv and removing dogy images"
   ]
  },
  {
   "cell_type": "code",
   "execution_count": null,
   "id": "78a3888e-d72c-4ffe-b833-1fe65f3a8a55",
   "metadata": {},
   "outputs": [],
   "source": [
    "import cv2\n",
    "import imghdr"
   ]
  },
  {
   "cell_type": "code",
   "execution_count": null,
   "id": "eaa02253-386d-40f4-b52a-ed21d960e38c",
   "metadata": {},
   "outputs": [],
   "source": [
    "data_dir = 'data' "
   ]
  },
  {
   "cell_type": "code",
   "execution_count": null,
   "id": "7566f895-71f5-42ed-9edf-2ef75d112d78",
   "metadata": {},
   "outputs": [],
   "source": [
    "image_exts = ['jpeg','jpg', 'bmp', 'png']"
   ]
  },
  {
   "cell_type": "code",
   "execution_count": null,
   "id": "a463d5e3-bbc5-4cef-add9-9387c2633ff3",
   "metadata": {},
   "outputs": [],
   "source": [
    "for image_class in os.listdir(data_dir): \n",
    "    for image in os.listdir(os.path.join(data_dir, image_class)):\n",
    "        image_path = os.path.join(data_dir, image_class, image)\n",
    "        try: \n",
    "            img = cv2.imread(image_path)\n",
    "            tip = imghdr.what(image_path)\n",
    "            if tip not in image_exts: \n",
    "                print('Image not in ext list {}'.format(image_path))\n",
    "                os.remove(image_path)\n",
    "        except Exception as e: \n",
    "            print('Issue with image {}'.format(image_path))\n",
    "            # os.remove(image_path)"
   ]
  },
  {
   "cell_type": "markdown",
   "id": "0cdea8e0-5be2-490f-b782-9ec415f8a4d7",
   "metadata": {
    "tags": []
   },
   "source": [
    "#### Loading Training data"
   ]
  },
  {
   "cell_type": "code",
   "execution_count": null,
   "id": "004c2355-8362-4e44-af2c-83d3d5219bf9",
   "metadata": {},
   "outputs": [],
   "source": [
    "import numpy as np"
   ]
  },
  {
   "cell_type": "code",
   "execution_count": null,
   "id": "6b6701e5-dbae-41b6-94e2-24f3feb971a9",
   "metadata": {},
   "outputs": [],
   "source": [
    "data = tf.keras.preprocessing.image_dataset_from_directory(\n",
    "    directory='data',\n",
    "    validation_split=0.3,\n",
    "    subset='training',\n",
    "    seed=123,\n",
    "    image_size=(256, 256),\n",
    "    batch_size=32,\n",
    ")"
   ]
  },
  {
   "cell_type": "markdown",
   "id": "337a5353-197e-49da-ade1-de1f97a8f172",
   "metadata": {
    "tags": []
   },
   "source": [
    "#### Scaling data"
   ]
  },
  {
   "cell_type": "code",
   "execution_count": null,
   "id": "570f3e12-cf36-4f85-992a-67ff76f95a01",
   "metadata": {},
   "outputs": [],
   "source": [
    "data = data.map(lambda x,y: (x/255, y))"
   ]
  },
  {
   "cell_type": "markdown",
   "id": "cee64130-eb54-4e34-9a4a-a1c63b9ff178",
   "metadata": {
    "tags": []
   },
   "source": [
    "#### Splitting data"
   ]
  },
  {
   "cell_type": "code",
   "execution_count": null,
   "id": "f4acc3a0-16fc-4f0b-b217-9240dddde8e7",
   "metadata": {},
   "outputs": [],
   "source": [
    "train_data = data.skip(int(0.3 * len(data)))\n"
   ]
  },
  {
   "cell_type": "code",
   "execution_count": null,
   "id": "5e286435-c4b2-410a-9cae-32202a7697cd",
   "metadata": {
    "tags": []
   },
   "outputs": [],
   "source": [
    "train_data = data.skip(int(0.3 * len(data)))\n"
   ]
  },
  {
   "cell_type": "markdown",
   "id": "dae06ad1-870e-43df-97f9-167ffc818d30",
   "metadata": {
    "tags": []
   },
   "source": [
    "#### Model"
   ]
  },
  {
   "cell_type": "code",
   "execution_count": null,
   "id": "7455e9d4-0a45-4d79-bb44-0763dfb1ab19",
   "metadata": {},
   "outputs": [],
   "source": [
    "from tensorflow.keras.models import Sequential\n",
    "from tensorflow.keras.layers import Conv2D, MaxPooling2D, Dense, Flatten, Dropout"
   ]
  },
  {
   "cell_type": "code",
   "execution_count": null,
   "id": "c2ec0b9b-5b89-4ad8-b4fa-270a0acefaaa",
   "metadata": {},
   "outputs": [],
   "source": [
    "def create_model():"
   ]
  },
  {
   "cell_type": "code",
   "execution_count": null,
   "id": "c6127cb3-3dce-4022-80ca-1c7663b3b6e8",
   "metadata": {},
   "outputs": [],
   "source": [
    "model = keras.Sequential([\n",
    "    layers.Conv2D(16, (3,3), 1, activation='relu', input_shape=(256,256,3)),\n",
    "    layers.MaxPooling2D(),\n",
    "    layers.Conv2D(32, (3,3), 1, activation='relu'),\n",
    "    layers.MaxPooling2D(),\n",
    "    layers.Conv2D(16, (3,3), 1, activation='relu'),\n",
    "    layers.MaxPooling2D(),\n",
    "    layers.Flatten(),\n",
    "    layers.Dense(256, activation='relu'),\n",
    "    layers.Dense(1, activation='sigmoid')\n",
    "])"
   ]
  },
  {
   "cell_type": "code",
   "execution_count": null,
   "id": "0e3cbd5c-1a8d-4ff0-9586-46eab0ea9ac1",
   "metadata": {},
   "outputs": [],
   "source": [
    "model.compile(optimizer='adam', loss='binary_crossentropy', metrics=['accuracy'])"
   ]
  },
  {
   "cell_type": "code",
   "execution_count": null,
   "id": "15b3a58c-a21a-43b6-afe3-72757ea5d43f",
   "metadata": {},
   "outputs": [],
   "source": [
    "return model"
   ]
  },
  {
   "cell_type": "code",
   "execution_count": null,
   "id": "6d8a8df2-4639-4a9e-b25b-cc6d099c14e3",
   "metadata": {},
   "outputs": [],
   "source": [
    "fig = plt.figure()\n",
    "plt.plot(hist.history['loss'], color='teal', label='loss')\n",
    "plt.plot(hist.history['val_loss'], color='orange', label='val_loss')\n",
    "fig.suptitle('Loss', fontsize=20)\n",
    "plt.legend(loc=\"upper left\")\n",
    "plt.show()"
   ]
  },
  {
   "cell_type": "code",
   "execution_count": null,
   "id": "16ad4cc1-efee-4ce1-a4e6-abcec6caec0a",
   "metadata": {},
   "outputs": [],
   "source": [
    "fig = plt.figure()\n",
    "plt.plot(hist.history['accuracy'], color='teal', label='accuracy')\n",
    "plt.plot(hist.history['val_accuracy'], color='orange', label='val_accuracy')\n",
    "fig.suptitle('Accuracy', fontsize=20)\n",
    "plt.legend(loc=\"upper left\")\n",
    "plt.show()"
   ]
  },
  {
   "cell_type": "markdown",
   "id": "7c892df9-b3ee-4e96-a079-9f085b3515ba",
   "metadata": {
    "tags": []
   },
   "source": [
    "#### Evaluate Model with Cross Validation"
   ]
  },
  {
   "cell_type": "code",
   "execution_count": null,
   "id": "a725913e-3966-4c72-a433-1ff5a474cd2d",
   "metadata": {},
   "outputs": [],
   "source": [
    "from tensorflow.keras.metrics import Precision, Recall, BinaryAccuracy"
   ]
  },
  {
   "cell_type": "code",
   "execution_count": null,
   "id": "d65fda0c-1af3-47e1-9c60-1733d63e4bbc",
   "metadata": {},
   "outputs": [],
   "source": [
    "num_folds = 5\n",
    "fold_acc = []\n",
    "fold_precision = []\n",
    "fold_recall = []"
   ]
  },
  {
   "cell_type": "code",
   "execution_count": null,
   "id": "b0aeffdd-0d7a-440f-b999-bf2b67c0ec98",
   "metadata": {},
   "outputs": [],
   "source": [
    "for batch in test.as_numpy_iterator(): \n",
    "    X, y = batch\n",
    "    yhat = model.predict(X)\n",
    "    pre.update_state(y, yhat)\n",
    "    re.update_state(y, yhat)\n",
    "    acc.update_state(y, yhat)"
   ]
  },
  {
   "cell_type": "code",
   "execution_count": null,
   "id": "0d90563f-0ea4-444c-ad95-0554dee1359f",
   "metadata": {},
   "outputs": [],
   "source": [
    "kfold = KFold(n_splits=num_folds, shuffle=True, random_state=123)\n",
    "for fold, (train_idx, val_idx) in enumerate(kfold.split(data)):\n",
    "    train_data_fold = data.take(train_idx)\n",
    "    val_data_fold = data.take(val_idx)\n",
    "    model = create_model()\n",
    "    history = model.fit(train_data_fold, epochs=10, validation_data=val_data_fold, verbose=0)\n",
    "    _, acc = model.evaluate(val_data_fold, verbose=0)\n",
    "    pre = Precision()\n",
    "    re = Recall()\n",
    "    for batch in val_data_fold.as_numpy_iterator(): \n",
    "        X, y = batch\n",
    "        yhat = model.predict(X)\n",
    "        pre.update_state(y, yhat)\n",
    "        re.update_state(y, yhat)\n",
    "    fold_acc.append(acc)\n",
    "    fold_precision.append(pre.result().numpy())\n",
    "    fold_recall.append(re.result().numpy())"
   ]
  },
  {
   "cell_type": "markdown",
   "id": "6824f532-845d-4fa2-becb-b9b2d9135c0f",
   "metadata": {
    "tags": []
   },
   "source": [
    "#### Testing"
   ]
  },
  {
   "cell_type": "code",
   "execution_count": null,
   "id": "e50dc1ba-0561-4a33-bbea-99fc79dec384",
   "metadata": {},
   "outputs": [],
   "source": [
    "import cv2"
   ]
  },
  {
   "cell_type": "code",
   "execution_count": null,
   "id": "169a9800-37eb-4530-a135-ad94b2511133",
   "metadata": {},
   "outputs": [],
   "source": [
    "img = cv2.imread('Productivity.png')\n",
    "plt.imshow(cv2.cvtColor(img, cv2.COLOR_BGR2RGB))\n",
    "plt.show()"
   ]
  },
  {
   "cell_type": "code",
   "execution_count": null,
   "id": "ea8721cb-d24f-495c-a18f-29f36ba4a507",
   "metadata": {},
   "outputs": [],
   "source": [
    "resize = tf.image.resize(img, (256,256))\n",
    "plt.imshow(resize.numpy().astype(int))\n",
    "plt.show()"
   ]
  },
  {
   "cell_type": "code",
   "execution_count": null,
   "id": "1add1a8f-e59c-4355-856f-658d172a55d8",
   "metadata": {},
   "outputs": [],
   "source": [
    "yhat = model.predict(np.expand_dims(resize/255, 0))"
   ]
  },
  {
   "cell_type": "code",
   "execution_count": null,
   "id": "cf62e7f4-59f8-4d94-a616-a2b69abfb5ff",
   "metadata": {},
   "outputs": [],
   "source": [
    "yhat"
   ]
  },
  {
   "cell_type": "code",
   "execution_count": null,
   "id": "edc8d1bb-cb86-4475-adde-0d6c9fc04414",
   "metadata": {},
   "outputs": [],
   "source": [
    "if yhat > 0.5: \n",
    "    print(f'Predicted class is Good')\n",
    "else:\n",
    "    print(f'Predicted class is Bad')"
   ]
  },
  {
   "cell_type": "markdown",
   "id": "5aa70e59-40c4-4163-849f-69ccb613e5cc",
   "metadata": {
    "tags": []
   },
   "source": [
    "#### Saving the model"
   ]
  },
  {
   "cell_type": "code",
   "execution_count": null,
   "id": "15986d95-6b5f-44e2-b1d0-895d0644faff",
   "metadata": {},
   "outputs": [],
   "source": [
    "from tensorflow.keras.models import load_model"
   ]
  },
  {
   "cell_type": "code",
   "execution_count": null,
   "id": "63afc5fd-96b4-4146-b161-701802a83adb",
   "metadata": {},
   "outputs": [],
   "source": [
    "model.save(os.path.join('models','imageclassifier.h5'))"
   ]
  },
  {
   "cell_type": "code",
   "execution_count": null,
   "id": "2411cd24-fcf4-44d8-9abb-99bec2301c97",
   "metadata": {},
   "outputs": [],
   "source": [
    "new_model = load_model('imageclassifier.h5')"
   ]
  },
  {
   "cell_type": "code",
   "execution_count": null,
   "id": "83199580-7946-4945-a57d-3b6acb1149aa",
   "metadata": {},
   "outputs": [],
   "source": [
    "new_model.predict(np.expand_dims(resize/255, 0))"
   ]
  }
 ],
 "metadata": {
  "kernelspec": {
   "display_name": "uicheck",
   "language": "python",
   "name": "uicheck"
  },
  "language_info": {
   "codemirror_mode": {
    "name": "ipython",
    "version": 3
   },
   "file_extension": ".py",
   "mimetype": "text/x-python",
   "name": "python",
   "nbconvert_exporter": "python",
   "pygments_lexer": "ipython3",
   "version": "3.10.9"
  }
 },
 "nbformat": 4,
 "nbformat_minor": 5
}
